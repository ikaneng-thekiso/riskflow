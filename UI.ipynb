{
 "cells": [
  {
   "cell_type": "code",
   "execution_count": 1,
   "id": "e7474912",
   "metadata": {
    "slideshow": {
     "slide_type": ""
    },
    "tags": []
   },
   "outputs": [],
   "source": [
    "import os\n",
    "import logging\n",
    "import numpy as np\n",
    "import pandas as pd"
   ]
  },
  {
   "cell_type": "code",
   "execution_count": 2,
   "id": "635bde78",
   "metadata": {},
   "outputs": [],
   "source": [
    "import ipywidgets as widgets\n",
    "import riskflow_jupyter "
   ]
  },
  {
   "cell_type": "code",
   "execution_count": 3,
   "id": "6c41c14c",
   "metadata": {},
   "outputs": [],
   "source": [
    "# specify parameters for all parameter inputs\n",
    "os.environ['CUDA_VISIBLE_DEVICES'] = '0'"
   ]
  },
  {
   "cell_type": "code",
   "execution_count": 4,
   "id": "40db6a1b-0a88-417e-bd14-e9502a99079f",
   "metadata": {},
   "outputs": [],
   "source": [
    "# Change the folder here\n",
    "folder = 'PFE'\n",
    "\n",
    "with open('N:\\\\RunDate.txt', 'rt') as f:\n",
    "    rundate = f.read()\n",
    "    \n",
    "# rundate='2023-12-08'\n",
    "\n",
    "if os.name=='nt':\n",
    "    # path = os.path.join('\\\\\\\\ICMJHBMAMRPRD1\\\\AdaptivAnalytics_Outputs\\\\RiskFlow',folder, rundate)\n",
    "    # path = os.path.join('\\\\\\\\icmjhbmvamruat1\\\\AdaptivAnalytics_Outputs\\\\RiskFlow',folder, rundate)\n",
    "    path = os.path.join('\\\\\\\\ICMJHBMAMRUAT1\\\\AdaptivAnalytics_Outputs\\\\UAT\\\\RiskFlow',folder, rundate)\n",
    "    path_transform={}\n",
    "else:\n",
    "    path = os.path.join('/mnt/UAT_Output/RiskFlow', folder, rundate)\n",
    "    # path = os.path.join('/mnt/Prod_Output/RiskFlow', folder, rundate)\n",
    "    # path = os.path.join('/mnt/MarketData/CVA_JSON', folder, rundate)\n",
    "    path_transform={\n",
    "            '//ICMJHBMVDROPUAT/AdaptiveAnalytics/Inbound/MarketData': '/mnt/MarketData',\n",
    "            '//ICMJHBMVDROPUAT/AdaptiveAnalytics/Inbound/MarketData/CVAMarketDataBackup': '/mnt/MarketData'\n",
    "        }\n",
    "    "
   ]
  },
  {
   "cell_type": "code",
   "execution_count": 5,
   "id": "b843d0aa-4878-4c9c-a314-3a096263c077",
   "metadata": {},
   "outputs": [
    {
     "data": {
      "application/vnd.jupyter.widget-view+json": {
       "model_id": "014a39bd0740466d89f3d37282ff35b8",
       "version_major": 2,
       "version_minor": 0
      },
      "text/plain": [
       "VBox(children=(Tab(children=(VBox(children=(VBox(children=(VBox(), HBox(children=(Button(description='Add new …"
      ]
     },
     "metadata": {},
     "output_type": "display_data"
    }
   ],
   "source": [
    "wb = riskflow_jupyter.Workbench(\n",
    "    path_transform=path_transform,\n",
    "    file_transform={\n",
    "        #'CVAMarketData_Calibrated_New_{}.json'.format(rundate[-2:]+rundate[5:7]+rundate[2:4]):'MarketData.json', \n",
    "        'MarketData.dat':'MarketData.json'\n",
    "    },\n",
    "    default_rundate=pd.Timestamp(rundate)\n",
    ")"
   ]
  },
  {
   "cell_type": "code",
   "execution_count": null,
   "id": "17518157",
   "metadata": {},
   "outputs": [],
   "source": [
    "%debug"
   ]
  },
  {
   "cell_type": "code",
   "execution_count": null,
   "id": "54d2c106",
   "metadata": {},
   "outputs": [],
   "source": [
    "# riskflow_jupyter.rf.fields.mapping['Factor']['types']\n",
    "p=riskflow_jupyter.RiskFactorsPage(w.context)"
   ]
  },
  {
   "cell_type": "code",
   "execution_count": null,
   "id": "2ceb6945",
   "metadata": {},
   "outputs": [],
   "source": [
    "out = wb.calculations.output\n",
    "\n",
    "# get the first baseval calc\n",
    "baseval = [v for k,v in out.items() if k.startswith('BaseValuation')]\n",
    "baseval = baseval[0] if baseval else None\n",
    "# get the first cmc calc\n",
    "cmc = [v for k,v in out.items() if k.startswith('CreditMonteCarlo')]\n",
    "cmc = cmc[0] if cmc else None"
   ]
  },
  {
   "cell_type": "code",
   "execution_count": null,
   "id": "1f80f26d",
   "metadata": {},
   "outputs": [],
   "source": [
    "cmc['Results']['exposure_profile']"
   ]
  },
  {
   "cell_type": "code",
   "execution_count": null,
   "id": "5f3611e6",
   "metadata": {},
   "outputs": [],
   "source": [
    "wb.context.current_cfg.deals['Calculation']"
   ]
  },
  {
   "cell_type": "code",
   "execution_count": null,
   "id": "dc8966a2",
   "metadata": {},
   "outputs": [],
   "source": [
    "w.context.current_cfg.deals['Deals']['Children'][0]['Children'][0]['Instrument'].field"
   ]
  },
  {
   "cell_type": "code",
   "execution_count": null,
   "id": "ba1b6de5",
   "metadata": {},
   "outputs": [],
   "source": [
    "rundate = '2022-07-07'\n",
    "if os.name=='nt':\n",
    "    path = os.path.join('U:\\\\CVA_JSON', rundate)\n",
    "    path_transform={\n",
    "        '\\\\\\\\ICMJHBMVDROPPRD\\\\AdaptiveAnalytics\\\\Inbound\\\\MarketData':\n",
    "        '\\\\\\\\ICMJHBMVDROPUAT\\\\AdaptiveAnalytics\\\\Inbound\\\\MarketData'}\n",
    "else:\n",
    "    path = os.path.join('/media/vretiel/3EFA4BCDFA4B7FDF/Media/Data/crstal/CVA_JSON', rundate)\n",
    "    path_transform={\n",
    "            '//ICMJHBMVDROPPRD/AdaptiveAnalytics/Inbound/MarketData': \n",
    "            '/media/vretiel/3EFA4BCDFA4B7FDF/Media/Data/crstal/CVA_JSON'}\n",
    "    \n",
    "cx = riskflow_jupyter.rf.Context(\n",
    "    path_transform=path_transform,\n",
    "    file_transform={\n",
    "        'CVAMarketData_Calibrated.dat': 'CVAMarketData_Calibrated_New.json',\n",
    "        'MarketData.dat': 'MarketData.json'\n",
    "    })"
   ]
  },
  {
   "cell_type": "code",
   "execution_count": null,
   "id": "cbc25052",
   "metadata": {},
   "outputs": [],
   "source": [
    "# cx.load_json(os.path.join(path, 'InputAAJ_CrB_Russellstone_Treasury_ISDA.json'))\n",
    "# cx.load_json(os.path.join(path, 'InputAAJ_CrB_BNP_Paribas__Paris__ISDA.json'))\n",
    "# cx.load_json(os.path.join(path, 'InputAAJ_CrB_Citibank_NA_NY_ISDA.json'))\n",
    "cx.load_json(os.path.join(path, 'InputAAJ_CrB_JPMorgan_Chase_NYK_ISDA.json'))\n",
    "\n",
    "# cx.load_json(os.path.join(path, 'InputAAJ_CrB_Natixis_ISDA.json'))\n",
    "\n"
   ]
  },
  {
   "cell_type": "code",
   "execution_count": null,
   "id": "28bdec70",
   "metadata": {},
   "outputs": [],
   "source": [
    "path"
   ]
  },
  {
   "cell_type": "code",
   "execution_count": null,
   "id": "2e43ca20",
   "metadata": {},
   "outputs": [],
   "source": [
    "calc, output = cx.run_job()"
   ]
  }
 ],
 "metadata": {
  "kernelspec": {
   "display_name": "Python 3 (ipykernel)",
   "language": "python",
   "name": "python3"
  },
  "language_info": {
   "codemirror_mode": {
    "name": "ipython",
    "version": 3
   },
   "file_extension": ".py",
   "mimetype": "text/x-python",
   "name": "python",
   "nbconvert_exporter": "python",
   "pygments_lexer": "ipython3",
   "version": "3.10.9"
  }
 },
 "nbformat": 4,
 "nbformat_minor": 5
}
